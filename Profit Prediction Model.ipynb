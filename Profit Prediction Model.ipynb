{
 "cells": [
  {
   "cell_type": "markdown",
   "id": "2cea1e1f",
   "metadata": {},
   "source": [
    "# Problem Statement\n",
    "Prepare a prediction model for profit of 50_startups data.Do transformations for getting better predictions of profit and make a table containing R^2 value for each prepared model.\n",
    "* R&D Spend -- Research and devolop spend in the past few years\n",
    "* Administration -- spend on administration in the past few years\n",
    "* Marketing Spend -- spend on Marketing in the past few years\n",
    "* State -- states from which data is collected\n",
    "* Profit  -- profit of each state in the past few years"
   ]
  },
  {
   "cell_type": "markdown",
   "id": "e5f50e77",
   "metadata": {},
   "source": [
    "# Importing Necessary Libraries"
   ]
  },
  {
   "cell_type": "code",
   "execution_count": 80,
   "id": "237c2af8",
   "metadata": {},
   "outputs": [],
   "source": [
    "import pandas as pd\n",
    "import numpy as np\n",
    "import matplotlib.pyplot as plt\n",
    "import seaborn as sns\n",
    "sns.set()\n",
    "import statsmodels.formula.api as smf\n",
    "from warnings import filterwarnings\n",
    "filterwarnings('ignore')"
   ]
  },
  {
   "cell_type": "markdown",
   "id": "df385260",
   "metadata": {},
   "source": [
    "# Importing Data"
   ]
  },
  {
   "cell_type": "code",
   "execution_count": 81,
   "id": "de1628d4",
   "metadata": {
    "scrolled": true
   },
   "outputs": [
    {
     "data": {
      "text/html": [
       "<div>\n",
       "<style scoped>\n",
       "    .dataframe tbody tr th:only-of-type {\n",
       "        vertical-align: middle;\n",
       "    }\n",
       "\n",
       "    .dataframe tbody tr th {\n",
       "        vertical-align: top;\n",
       "    }\n",
       "\n",
       "    .dataframe thead th {\n",
       "        text-align: right;\n",
       "    }\n",
       "</style>\n",
       "<table border=\"1\" class=\"dataframe\">\n",
       "  <thead>\n",
       "    <tr style=\"text-align: right;\">\n",
       "      <th></th>\n",
       "      <th>R&amp;D Spend</th>\n",
       "      <th>Administration</th>\n",
       "      <th>Marketing Spend</th>\n",
       "      <th>State</th>\n",
       "      <th>Profit</th>\n",
       "    </tr>\n",
       "  </thead>\n",
       "  <tbody>\n",
       "    <tr>\n",
       "      <th>0</th>\n",
       "      <td>165349.20</td>\n",
       "      <td>136897.80</td>\n",
       "      <td>471784.10</td>\n",
       "      <td>New York</td>\n",
       "      <td>192261.83</td>\n",
       "    </tr>\n",
       "    <tr>\n",
       "      <th>1</th>\n",
       "      <td>162597.70</td>\n",
       "      <td>151377.59</td>\n",
       "      <td>443898.53</td>\n",
       "      <td>California</td>\n",
       "      <td>191792.06</td>\n",
       "    </tr>\n",
       "    <tr>\n",
       "      <th>2</th>\n",
       "      <td>153441.51</td>\n",
       "      <td>101145.55</td>\n",
       "      <td>407934.54</td>\n",
       "      <td>Florida</td>\n",
       "      <td>191050.39</td>\n",
       "    </tr>\n",
       "    <tr>\n",
       "      <th>3</th>\n",
       "      <td>144372.41</td>\n",
       "      <td>118671.85</td>\n",
       "      <td>383199.62</td>\n",
       "      <td>New York</td>\n",
       "      <td>182901.99</td>\n",
       "    </tr>\n",
       "    <tr>\n",
       "      <th>4</th>\n",
       "      <td>142107.34</td>\n",
       "      <td>91391.77</td>\n",
       "      <td>366168.42</td>\n",
       "      <td>Florida</td>\n",
       "      <td>166187.94</td>\n",
       "    </tr>\n",
       "  </tbody>\n",
       "</table>\n",
       "</div>"
      ],
      "text/plain": [
       "   R&D Spend  Administration  Marketing Spend       State     Profit\n",
       "0  165349.20       136897.80        471784.10    New York  192261.83\n",
       "1  162597.70       151377.59        443898.53  California  191792.06\n",
       "2  153441.51       101145.55        407934.54     Florida  191050.39\n",
       "3  144372.41       118671.85        383199.62    New York  182901.99\n",
       "4  142107.34        91391.77        366168.42     Florida  166187.94"
      ]
     },
     "execution_count": 81,
     "metadata": {},
     "output_type": "execute_result"
    }
   ],
   "source": [
    "raw_data = pd.read_csv('50_Startups.csv')\n",
    "data = raw_data.copy()\n",
    "data.head()"
   ]
  },
  {
   "cell_type": "markdown",
   "id": "761d2f58",
   "metadata": {},
   "source": [
    "# Exploratory Data Analysis"
   ]
  },
  {
   "cell_type": "code",
   "execution_count": 82,
   "id": "a8e9f530",
   "metadata": {
    "scrolled": true
   },
   "outputs": [],
   "source": [
    "data = data.replace(0, np.nan)\n",
    "data = data.dropna(how='any', axis=0)                # REPLACING 0 ENTRIES WITH NAN VALUES AND DROPPING THEM"
   ]
  },
  {
   "cell_type": "code",
   "execution_count": 83,
   "id": "efece5c3",
   "metadata": {},
   "outputs": [],
   "source": [
    "data = data[data['R&D Spend'] > 10000]              # Removing the Outliers"
   ]
  },
  {
   "cell_type": "code",
   "execution_count": 84,
   "id": "7689b6c4",
   "metadata": {},
   "outputs": [],
   "source": [
    "data = data.reset_index(drop=True)                   # resetting the index"
   ]
  },
  {
   "cell_type": "code",
   "execution_count": 85,
   "id": "b904ea0f",
   "metadata": {},
   "outputs": [
    {
     "name": "stdout",
     "output_type": "stream",
     "text": [
      "<class 'pandas.core.frame.DataFrame'>\n",
      "RangeIndex: 44 entries, 0 to 43\n",
      "Data columns (total 5 columns):\n",
      " #   Column           Non-Null Count  Dtype  \n",
      "---  ------           --------------  -----  \n",
      " 0   R&D Spend        44 non-null     float64\n",
      " 1   Administration   44 non-null     float64\n",
      " 2   Marketing Spend  44 non-null     float64\n",
      " 3   State            44 non-null     object \n",
      " 4   Profit           44 non-null     float64\n",
      "dtypes: float64(4), object(1)\n",
      "memory usage: 1.8+ KB\n"
     ]
    }
   ],
   "source": [
    "data.info()                                           "
   ]
  },
  {
   "cell_type": "code",
   "execution_count": 86,
   "id": "700eeb3c",
   "metadata": {
    "scrolled": true
   },
   "outputs": [
    {
     "data": {
      "text/html": [
       "<div>\n",
       "<style scoped>\n",
       "    .dataframe tbody tr th:only-of-type {\n",
       "        vertical-align: middle;\n",
       "    }\n",
       "\n",
       "    .dataframe tbody tr th {\n",
       "        vertical-align: top;\n",
       "    }\n",
       "\n",
       "    .dataframe thead th {\n",
       "        text-align: right;\n",
       "    }\n",
       "</style>\n",
       "<table border=\"1\" class=\"dataframe\">\n",
       "  <thead>\n",
       "    <tr style=\"text-align: right;\">\n",
       "      <th></th>\n",
       "      <th>R&amp;D Spend</th>\n",
       "      <th>Administration</th>\n",
       "      <th>Marketing Spend</th>\n",
       "      <th>State</th>\n",
       "      <th>Profit</th>\n",
       "    </tr>\n",
       "  </thead>\n",
       "  <tbody>\n",
       "    <tr>\n",
       "      <th>count</th>\n",
       "      <td>44.000000</td>\n",
       "      <td>44.000000</td>\n",
       "      <td>44.000000</td>\n",
       "      <td>44</td>\n",
       "      <td>44.000000</td>\n",
       "    </tr>\n",
       "    <tr>\n",
       "      <th>unique</th>\n",
       "      <td>NaN</td>\n",
       "      <td>NaN</td>\n",
       "      <td>NaN</td>\n",
       "      <td>3</td>\n",
       "      <td>NaN</td>\n",
       "    </tr>\n",
       "    <tr>\n",
       "      <th>top</th>\n",
       "      <td>NaN</td>\n",
       "      <td>NaN</td>\n",
       "      <td>NaN</td>\n",
       "      <td>California</td>\n",
       "      <td>NaN</td>\n",
       "    </tr>\n",
       "    <tr>\n",
       "      <th>freq</th>\n",
       "      <td>NaN</td>\n",
       "      <td>NaN</td>\n",
       "      <td>NaN</td>\n",
       "      <td>15</td>\n",
       "      <td>NaN</td>\n",
       "    </tr>\n",
       "    <tr>\n",
       "      <th>mean</th>\n",
       "      <td>81745.530455</td>\n",
       "      <td>122036.244318</td>\n",
       "      <td>231978.714545</td>\n",
       "      <td>NaN</td>\n",
       "      <td>119784.630227</td>\n",
       "    </tr>\n",
       "    <tr>\n",
       "      <th>std</th>\n",
       "      <td>41341.933344</td>\n",
       "      <td>27411.082451</td>\n",
       "      <td>107965.109686</td>\n",
       "      <td>NaN</td>\n",
       "      <td>34297.025963</td>\n",
       "    </tr>\n",
       "    <tr>\n",
       "      <th>min</th>\n",
       "      <td>15505.730000</td>\n",
       "      <td>51283.140000</td>\n",
       "      <td>28334.720000</td>\n",
       "      <td>NaN</td>\n",
       "      <td>65200.330000</td>\n",
       "    </tr>\n",
       "    <tr>\n",
       "      <th>25%</th>\n",
       "      <td>53226.980000</td>\n",
       "      <td>102579.505000</td>\n",
       "      <td>146144.535000</td>\n",
       "      <td>NaN</td>\n",
       "      <td>96762.390000</td>\n",
       "    </tr>\n",
       "    <tr>\n",
       "      <th>50%</th>\n",
       "      <td>75791.365000</td>\n",
       "      <td>122699.795000</td>\n",
       "      <td>239452.750000</td>\n",
       "      <td>NaN</td>\n",
       "      <td>109543.120000</td>\n",
       "    </tr>\n",
       "    <tr>\n",
       "      <th>75%</th>\n",
       "      <td>115878.517500</td>\n",
       "      <td>145190.700000</td>\n",
       "      <td>303681.627500</td>\n",
       "      <td>NaN</td>\n",
       "      <td>144725.037500</td>\n",
       "    </tr>\n",
       "    <tr>\n",
       "      <th>max</th>\n",
       "      <td>165349.200000</td>\n",
       "      <td>182645.560000</td>\n",
       "      <td>471784.100000</td>\n",
       "      <td>NaN</td>\n",
       "      <td>192261.830000</td>\n",
       "    </tr>\n",
       "  </tbody>\n",
       "</table>\n",
       "</div>"
      ],
      "text/plain": [
       "            R&D Spend  Administration  Marketing Spend       State  \\\n",
       "count       44.000000       44.000000        44.000000          44   \n",
       "unique            NaN             NaN              NaN           3   \n",
       "top               NaN             NaN              NaN  California   \n",
       "freq              NaN             NaN              NaN          15   \n",
       "mean     81745.530455   122036.244318    231978.714545         NaN   \n",
       "std      41341.933344    27411.082451    107965.109686         NaN   \n",
       "min      15505.730000    51283.140000     28334.720000         NaN   \n",
       "25%      53226.980000   102579.505000    146144.535000         NaN   \n",
       "50%      75791.365000   122699.795000    239452.750000         NaN   \n",
       "75%     115878.517500   145190.700000    303681.627500         NaN   \n",
       "max     165349.200000   182645.560000    471784.100000         NaN   \n",
       "\n",
       "               Profit  \n",
       "count       44.000000  \n",
       "unique            NaN  \n",
       "top               NaN  \n",
       "freq              NaN  \n",
       "mean    119784.630227  \n",
       "std      34297.025963  \n",
       "min      65200.330000  \n",
       "25%      96762.390000  \n",
       "50%     109543.120000  \n",
       "75%     144725.037500  \n",
       "max     192261.830000  "
      ]
     },
     "execution_count": 86,
     "metadata": {},
     "output_type": "execute_result"
    }
   ],
   "source": [
    "data.describe(include='all')"
   ]
  },
  {
   "cell_type": "code",
   "execution_count": 87,
   "id": "87fad58e",
   "metadata": {},
   "outputs": [
    {
     "data": {
      "image/png": "[encoded data removed]",
      "text/plain": [
       "<Figure size 1152x648 with 4 Axes>"
      ]
     },
     "metadata": {},
     "output_type": "display_data"
    }
   ],
   "source": [
    "data.hist(bins = 20, figsize = (16,9))\n",
    "plt.show()"
   ]
  },
  {
   "cell_type": "markdown",
   "id": "121863f2",
   "metadata": {},
   "source": [
    "# Looking for Correlations"
   ]
  },
  {
   "cell_type": "code",
   "execution_count": 88,
   "id": "6243ca52",
   "metadata": {},
   "outputs": [],
   "source": [
    "corr_matrix = data.corr()"
   ]
  },
  {
   "cell_type": "code",
   "execution_count": 89,
   "id": "ff2f02c6",
   "metadata": {},
   "outputs": [
    {
     "data": {
      "text/plain": [
       "Profit             1.000000\n",
       "R&D Spend          0.975669\n",
       "Marketing Spend    0.780891\n",
       "Administration     0.137310\n",
       "Name: Profit, dtype: float64"
      ]
     },
     "execution_count": 89,
     "metadata": {},
     "output_type": "execute_result"
    }
   ],
   "source": [
    "corr_matrix[\"Profit\"].sort_values(ascending=False)\n",
    "# Correlation of dependent variable with independent variables"
   ]
  },
  {
   "cell_type": "code",
   "execution_count": 90,
   "id": "716372ef",
   "metadata": {},
   "outputs": [
    {
     "data": {
      "text/html": [
       "<div>\n",
       "<style scoped>\n",
       "    .dataframe tbody tr th:only-of-type {\n",
       "        vertical-align: middle;\n",
       "    }\n",
       "\n",
       "    .dataframe tbody tr th {\n",
       "        vertical-align: top;\n",
       "    }\n",
       "\n",
       "    .dataframe thead th {\n",
       "        text-align: right;\n",
       "    }\n",
       "</style>\n",
       "<table border=\"1\" class=\"dataframe\">\n",
       "  <thead>\n",
       "    <tr style=\"text-align: right;\">\n",
       "      <th></th>\n",
       "      <th>R&amp;D Spend</th>\n",
       "      <th>Administration</th>\n",
       "      <th>Marketing Spend</th>\n",
       "      <th>Profit</th>\n",
       "    </tr>\n",
       "  </thead>\n",
       "  <tbody>\n",
       "    <tr>\n",
       "      <th>R&amp;D Spend</th>\n",
       "      <td>1.000000</td>\n",
       "      <td>0.20567</td>\n",
       "      <td>0.741366</td>\n",
       "      <td>0.975669</td>\n",
       "    </tr>\n",
       "    <tr>\n",
       "      <th>Administration</th>\n",
       "      <td>0.205670</td>\n",
       "      <td>1.00000</td>\n",
       "      <td>-0.083480</td>\n",
       "      <td>0.137310</td>\n",
       "    </tr>\n",
       "    <tr>\n",
       "      <th>Marketing Spend</th>\n",
       "      <td>0.741366</td>\n",
       "      <td>-0.08348</td>\n",
       "      <td>1.000000</td>\n",
       "      <td>0.780891</td>\n",
       "    </tr>\n",
       "    <tr>\n",
       "      <th>Profit</th>\n",
       "      <td>0.975669</td>\n",
       "      <td>0.13731</td>\n",
       "      <td>0.780891</td>\n",
       "      <td>1.000000</td>\n",
       "    </tr>\n",
       "  </tbody>\n",
       "</table>\n",
       "</div>"
      ],
      "text/plain": [
       "                 R&D Spend  Administration  Marketing Spend    Profit\n",
       "R&D Spend         1.000000         0.20567         0.741366  0.975669\n",
       "Administration    0.205670         1.00000        -0.083480  0.137310\n",
       "Marketing Spend   0.741366        -0.08348         1.000000  0.780891\n",
       "Profit            0.975669         0.13731         0.780891  1.000000"
      ]
     },
     "execution_count": 90,
     "metadata": {},
     "output_type": "execute_result"
    }
   ],
   "source": [
    "data.corr()                                    # Correlation Matrix"
   ]
  },
  {
   "cell_type": "code",
   "execution_count": 91,
   "id": "33a41f4f",
   "metadata": {},
   "outputs": [
    {
     "data": {
      "image/png": "[encoded data removed]",
      "text/plain": [
       "<Figure size 720x720 with 20 Axes>"
      ]
     },
     "metadata": {},
     "output_type": "display_data"
    }
   ],
   "source": [
    "sns.pairplot(data)\n",
    "plt.show()"
   ]
  },
  {
   "cell_type": "code",
   "execution_count": 92,
   "id": "d5d3f6d4",
   "metadata": {},
   "outputs": [
    {
     "data": {
      "text/plain": [
       "<AxesSubplot:xlabel='Administration', ylabel='Profit'>"
      ]
     },
     "execution_count": 92,
     "metadata": {},
     "output_type": "execute_result"
    },
    {
     "data": {
      "image/png": "[encoded data removed]",
      "text/plain": [
       "<Figure size 432x288 with 1 Axes>"
      ]
     },
     "metadata": {},
     "output_type": "display_data"
    }
   ],
   "source": [
    "sns.scatterplot(data['Administration'], data['Profit'])\n",
    "# This Scatter Plot is random, that is, Administration variable does not effect Profit. So, we remove it from regression"
   ]
  },
  {
   "cell_type": "code",
   "execution_count": 93,
   "id": "ac42fa77",
   "metadata": {},
   "outputs": [
    {
     "data": {
      "text/plain": [
       "Intercept         0.000167\n",
       "Administration    0.374103\n",
       "dtype: float64"
      ]
     },
     "execution_count": 93,
     "metadata": {},
     "output_type": "execute_result"
    }
   ],
   "source": [
    "slr_model = smf.ols('Profit ~ Administration', data = data).fit()\n",
    "slr_model.pvalues"
   ]
  },
  {
   "cell_type": "markdown",
   "id": "eac9afc2",
   "metadata": {},
   "source": [
    "# Dealing with Dummies"
   ]
  },
  {
   "cell_type": "code",
   "execution_count": 94,
   "id": "3f803c51",
   "metadata": {},
   "outputs": [],
   "source": [
    "data_with_dummies = pd.get_dummies(data = data, columns = ['State'])"
   ]
  },
  {
   "cell_type": "code",
   "execution_count": 95,
   "id": "cc114b4c",
   "metadata": {},
   "outputs": [
    {
     "data": {
      "text/html": [
       "<div>\n",
       "<style scoped>\n",
       "    .dataframe tbody tr th:only-of-type {\n",
       "        vertical-align: middle;\n",
       "    }\n",
       "\n",
       "    .dataframe tbody tr th {\n",
       "        vertical-align: top;\n",
       "    }\n",
       "\n",
       "    .dataframe thead th {\n",
       "        text-align: right;\n",
       "    }\n",
       "</style>\n",
       "<table border=\"1\" class=\"dataframe\">\n",
       "  <thead>\n",
       "    <tr style=\"text-align: right;\">\n",
       "      <th></th>\n",
       "      <th>R&amp;D Spend</th>\n",
       "      <th>Administration</th>\n",
       "      <th>Marketing Spend</th>\n",
       "      <th>Profit</th>\n",
       "      <th>State_California</th>\n",
       "      <th>State_Florida</th>\n",
       "      <th>State_New York</th>\n",
       "    </tr>\n",
       "  </thead>\n",
       "  <tbody>\n",
       "    <tr>\n",
       "      <th>0</th>\n",
       "      <td>165349.20</td>\n",
       "      <td>136897.80</td>\n",
       "      <td>471784.10</td>\n",
       "      <td>192261.83</td>\n",
       "      <td>0</td>\n",
       "      <td>0</td>\n",
       "      <td>1</td>\n",
       "    </tr>\n",
       "    <tr>\n",
       "      <th>1</th>\n",
       "      <td>162597.70</td>\n",
       "      <td>151377.59</td>\n",
       "      <td>443898.53</td>\n",
       "      <td>191792.06</td>\n",
       "      <td>1</td>\n",
       "      <td>0</td>\n",
       "      <td>0</td>\n",
       "    </tr>\n",
       "    <tr>\n",
       "      <th>2</th>\n",
       "      <td>153441.51</td>\n",
       "      <td>101145.55</td>\n",
       "      <td>407934.54</td>\n",
       "      <td>191050.39</td>\n",
       "      <td>0</td>\n",
       "      <td>1</td>\n",
       "      <td>0</td>\n",
       "    </tr>\n",
       "    <tr>\n",
       "      <th>3</th>\n",
       "      <td>144372.41</td>\n",
       "      <td>118671.85</td>\n",
       "      <td>383199.62</td>\n",
       "      <td>182901.99</td>\n",
       "      <td>0</td>\n",
       "      <td>0</td>\n",
       "      <td>1</td>\n",
       "    </tr>\n",
       "    <tr>\n",
       "      <th>4</th>\n",
       "      <td>142107.34</td>\n",
       "      <td>91391.77</td>\n",
       "      <td>366168.42</td>\n",
       "      <td>166187.94</td>\n",
       "      <td>0</td>\n",
       "      <td>1</td>\n",
       "      <td>0</td>\n",
       "    </tr>\n",
       "  </tbody>\n",
       "</table>\n",
       "</div>"
      ],
      "text/plain": [
       "   R&D Spend  Administration  Marketing Spend     Profit  State_California  \\\n",
       "0  165349.20       136897.80        471784.10  192261.83                 0   \n",
       "1  162597.70       151377.59        443898.53  191792.06                 1   \n",
       "2  153441.51       101145.55        407934.54  191050.39                 0   \n",
       "3  144372.41       118671.85        383199.62  182901.99                 0   \n",
       "4  142107.34        91391.77        366168.42  166187.94                 0   \n",
       "\n",
       "   State_Florida  State_New York  \n",
       "0              0               1  \n",
       "1              0               0  \n",
       "2              1               0  \n",
       "3              0               1  \n",
       "4              1               0  "
      ]
     },
     "execution_count": 95,
     "metadata": {},
     "output_type": "execute_result"
    }
   ],
   "source": [
    "data_with_dummies.head()"
   ]
  },
  {
   "cell_type": "code",
   "execution_count": 96,
   "id": "d55ad480",
   "metadata": {},
   "outputs": [
    {
     "data": {
      "text/plain": [
       "Index(['R&D Spend', 'Administration', 'Marketing Spend', 'Profit',\n",
       "       'State_California', 'State_Florida', 'State_New York'],\n",
       "      dtype='object')"
      ]
     },
     "execution_count": 96,
     "metadata": {},
     "output_type": "execute_result"
    }
   ],
   "source": [
    "data_with_dummies.columns"
   ]
  },
  {
   "cell_type": "code",
   "execution_count": 97,
   "id": "408481f6",
   "metadata": {},
   "outputs": [],
   "source": [
    "cols = ['Profit','R&D Spend', 'Administration', 'Marketing Spend','State_California', 'State_Florida', 'State_New York']\n",
    "data_cleaned = data_with_dummies[cols]"
   ]
  },
  {
   "cell_type": "markdown",
   "id": "b181ca2e",
   "metadata": {},
   "source": [
    "# Creating a Multiple Linear Regression"
   ]
  },
  {
   "cell_type": "code",
   "execution_count": 98,
   "id": "3867c326",
   "metadata": {},
   "outputs": [],
   "source": [
    "inputs = data_cleaned.drop(['Profit','Administration'],axis=1)\n",
    "targets = data_cleaned['Profit']"
   ]
  },
  {
   "cell_type": "code",
   "execution_count": 99,
   "id": "c198772a",
   "metadata": {},
   "outputs": [
    {
     "data": {
      "text/html": [
       "<table class=\"simpletable\">\n",
       "<caption>OLS Regression Results</caption>\n",
       "<tr>\n",
       "  <th>Dep. Variable:</th>         <td>targets</td>     <th>  R-squared:         </th> <td>   0.961</td>\n",
       "</tr>\n",
       "<tr>\n",
       "  <th>Model:</th>                   <td>OLS</td>       <th>  Adj. R-squared:    </th> <td>   0.957</td>\n",
       "</tr>\n",
       "<tr>\n",
       "  <th>Method:</th>             <td>Least Squares</td>  <th>  F-statistic:       </th> <td>   238.3</td>\n",
       "</tr>\n",
       "<tr>\n",
       "  <th>Date:</th>             <td>Fri, 02 Sep 2022</td> <th>  Prob (F-statistic):</th> <td>7.74e-27</td>\n",
       "</tr>\n",
       "<tr>\n",
       "  <th>Time:</th>                 <td>15:23:49</td>     <th>  Log-Likelihood:    </th> <td> -450.22</td>\n",
       "</tr>\n",
       "<tr>\n",
       "  <th>No. Observations:</th>      <td>    44</td>      <th>  AIC:               </th> <td>   910.4</td>\n",
       "</tr>\n",
       "<tr>\n",
       "  <th>Df Residuals:</th>          <td>    39</td>      <th>  BIC:               </th> <td>   919.4</td>\n",
       "</tr>\n",
       "<tr>\n",
       "  <th>Df Model:</th>              <td>     4</td>      <th>                     </th>     <td> </td>   \n",
       "</tr>\n",
       "<tr>\n",
       "  <th>Covariance Type:</th>      <td>nonrobust</td>    <th>                     </th>     <td> </td>   \n",
       "</tr>\n",
       "</table>\n",
       "<table class=\"simpletable\">\n",
       "<tr>\n",
       "      <td></td>         <th>coef</th>     <th>std err</th>      <th>t</th>      <th>P>|t|</th>  <th>[0.025</th>    <th>0.975]</th>  \n",
       "</tr>\n",
       "<tr>\n",
       "  <th>Intercept</th> <td> 3.758e+04</td> <td> 2019.997</td> <td>   18.603</td> <td> 0.000</td> <td> 3.35e+04</td> <td> 4.17e+04</td>\n",
       "</tr>\n",
       "<tr>\n",
       "  <th>inputs[0]</th> <td>    0.7309</td> <td>    0.039</td> <td>   18.617</td> <td> 0.000</td> <td>    0.651</td> <td>    0.810</td>\n",
       "</tr>\n",
       "<tr>\n",
       "  <th>inputs[1]</th> <td>    0.0427</td> <td>    0.015</td> <td>    2.818</td> <td> 0.008</td> <td>    0.012</td> <td>    0.073</td>\n",
       "</tr>\n",
       "<tr>\n",
       "  <th>inputs[2]</th> <td> 1.411e+04</td> <td> 1569.561</td> <td>    8.989</td> <td> 0.000</td> <td> 1.09e+04</td> <td> 1.73e+04</td>\n",
       "</tr>\n",
       "<tr>\n",
       "  <th>inputs[3]</th> <td> 1.253e+04</td> <td> 1703.526</td> <td>    7.358</td> <td> 0.000</td> <td> 9088.729</td> <td>  1.6e+04</td>\n",
       "</tr>\n",
       "<tr>\n",
       "  <th>inputs[4]</th> <td> 1.093e+04</td> <td> 1756.847</td> <td>    6.224</td> <td> 0.000</td> <td> 7381.069</td> <td> 1.45e+04</td>\n",
       "</tr>\n",
       "</table>\n",
       "<table class=\"simpletable\">\n",
       "<tr>\n",
       "  <th>Omnibus:</th>       <td> 0.076</td> <th>  Durbin-Watson:     </th> <td>   1.576</td>\n",
       "</tr>\n",
       "<tr>\n",
       "  <th>Prob(Omnibus):</th> <td> 0.963</td> <th>  Jarque-Bera (JB):  </th> <td>   0.160</td>\n",
       "</tr>\n",
       "<tr>\n",
       "  <th>Skew:</th>          <td> 0.090</td> <th>  Prob(JB):          </th> <td>   0.923</td>\n",
       "</tr>\n",
       "<tr>\n",
       "  <th>Kurtosis:</th>      <td> 2.765</td> <th>  Cond. No.          </th> <td>2.36e+21</td>\n",
       "</tr>\n",
       "</table><br/><br/>Notes:<br/>[1] Standard Errors assume that the covariance matrix of the errors is correctly specified.<br/>[2] The smallest eigenvalue is 5.76e-31. This might indicate that there are<br/>strong multicollinearity problems or that the design matrix is singular."
      ],
      "text/plain": [
       "<class 'statsmodels.iolib.summary.Summary'>\n",
       "\"\"\"\n",
       "                            OLS Regression Results                            \n",
       "==============================================================================\n",
       "Dep. Variable:                targets   R-squared:                       0.961\n",
       "Model:                            OLS   Adj. R-squared:                  0.957\n",
       "Method:                 Least Squares   F-statistic:                     238.3\n",
       "Date:                Fri, 02 Sep 2022   Prob (F-statistic):           7.74e-27\n",
       "Time:                        15:23:49   Log-Likelihood:                -450.22\n",
       "No. Observations:                  44   AIC:                             910.4\n",
       "Df Residuals:                      39   BIC:                             919.4\n",
       "Df Model:                           4                                         \n",
       "Covariance Type:            nonrobust                                         \n",
       "==============================================================================\n",
       "                 coef    std err          t      P>|t|      [0.025      0.975]\n",
       "------------------------------------------------------------------------------\n",
       "Intercept   3.758e+04   2019.997     18.603      0.000    3.35e+04    4.17e+04\n",
       "inputs[0]      0.7309      0.039     18.617      0.000       0.651       0.810\n",
       "inputs[1]      0.0427      0.015      2.818      0.008       0.012       0.073\n",
       "inputs[2]   1.411e+04   1569.561      8.989      0.000    1.09e+04    1.73e+04\n",
       "inputs[3]   1.253e+04   1703.526      7.358      0.000    9088.729     1.6e+04\n",
       "inputs[4]   1.093e+04   1756.847      6.224      0.000    7381.069    1.45e+04\n",
       "==============================================================================\n",
       "Omnibus:                        0.076   Durbin-Watson:                   1.576\n",
       "Prob(Omnibus):                  0.963   Jarque-Bera (JB):                0.160\n",
       "Skew:                           0.090   Prob(JB):                        0.923\n",
       "Kurtosis:                       2.765   Cond. No.                     2.36e+21\n",
       "==============================================================================\n",
       "\n",
       "Notes:\n",
       "[1] Standard Errors assume that the covariance matrix of the errors is correctly specified.\n",
       "[2] The smallest eigenvalue is 5.76e-31. This might indicate that there are\n",
       "strong multicollinearity problems or that the design matrix is singular.\n",
       "\"\"\""
      ]
     },
     "execution_count": 99,
     "metadata": {},
     "output_type": "execute_result"
    }
   ],
   "source": [
    "model = smf.ols('targets ~ inputs', data = data_cleaned).fit()\n",
    "model.summary()"
   ]
  },
  {
   "cell_type": "markdown",
   "id": "072437c1",
   "metadata": {},
   "source": [
    "# Multicollinearity"
   ]
  },
  {
   "cell_type": "code",
   "execution_count": 100,
   "id": "e6d0651d",
   "metadata": {},
   "outputs": [],
   "source": [
    "from statsmodels.stats.outliers_influence import variance_inflation_factor\n",
    "variables = data_cleaned[['R&D Spend','Marketing Spend', 'State_California', 'State_Florida', 'State_New York']]\n",
    "vif = pd.DataFrame()\n",
    "vif[\"VIF\"] = [variance_inflation_factor(variables.values, i) for i in range(variables.shape[1])]\n",
    "vif[\"Features\"] = variables.columns"
   ]
  },
  {
   "cell_type": "code",
   "execution_count": 101,
   "id": "8399aae7",
   "metadata": {},
   "outputs": [
    {
     "data": {
      "text/html": [
       "<div>\n",
       "<style scoped>\n",
       "    .dataframe tbody tr th:only-of-type {\n",
       "        vertical-align: middle;\n",
       "    }\n",
       "\n",
       "    .dataframe tbody tr th {\n",
       "        vertical-align: top;\n",
       "    }\n",
       "\n",
       "    .dataframe thead th {\n",
       "        text-align: right;\n",
       "    }\n",
       "</style>\n",
       "<table border=\"1\" class=\"dataframe\">\n",
       "  <thead>\n",
       "    <tr style=\"text-align: right;\">\n",
       "      <th></th>\n",
       "      <th>VIF</th>\n",
       "      <th>Features</th>\n",
       "    </tr>\n",
       "  </thead>\n",
       "  <tbody>\n",
       "    <tr>\n",
       "      <th>0</th>\n",
       "      <td>2.221502</td>\n",
       "      <td>R&amp;D Spend</td>\n",
       "    </tr>\n",
       "    <tr>\n",
       "      <th>1</th>\n",
       "      <td>2.253930</td>\n",
       "      <td>Marketing Spend</td>\n",
       "    </tr>\n",
       "    <tr>\n",
       "      <th>2</th>\n",
       "      <td>2.399772</td>\n",
       "      <td>State_California</td>\n",
       "    </tr>\n",
       "    <tr>\n",
       "      <th>3</th>\n",
       "      <td>2.978055</td>\n",
       "      <td>State_Florida</td>\n",
       "    </tr>\n",
       "    <tr>\n",
       "      <th>4</th>\n",
       "      <td>2.903386</td>\n",
       "      <td>State_New York</td>\n",
       "    </tr>\n",
       "  </tbody>\n",
       "</table>\n",
       "</div>"
      ],
      "text/plain": [
       "        VIF          Features\n",
       "0  2.221502         R&D Spend\n",
       "1  2.253930   Marketing Spend\n",
       "2  2.399772  State_California\n",
       "3  2.978055     State_Florida\n",
       "4  2.903386    State_New York"
      ]
     },
     "execution_count": 101,
     "metadata": {},
     "output_type": "execute_result"
    }
   ],
   "source": [
    "vif"
   ]
  },
  {
   "cell_type": "markdown",
   "id": "e8dc1054",
   "metadata": {},
   "source": [
    "# Model Prediction"
   ]
  },
  {
   "cell_type": "code",
   "execution_count": 102,
   "id": "ba89feb5",
   "metadata": {},
   "outputs": [],
   "source": [
    "predictions = model.predict(inputs)"
   ]
  },
  {
   "cell_type": "code",
   "execution_count": 103,
   "id": "98a09a52",
   "metadata": {},
   "outputs": [
    {
     "data": {
      "text/html": [
       "<div>\n",
       "<style scoped>\n",
       "    .dataframe tbody tr th:only-of-type {\n",
       "        vertical-align: middle;\n",
       "    }\n",
       "\n",
       "    .dataframe tbody tr th {\n",
       "        vertical-align: top;\n",
       "    }\n",
       "\n",
       "    .dataframe thead th {\n",
       "        text-align: right;\n",
       "    }\n",
       "</style>\n",
       "<table border=\"1\" class=\"dataframe\">\n",
       "  <thead>\n",
       "    <tr style=\"text-align: right;\">\n",
       "      <th></th>\n",
       "      <th>Fitted_Values</th>\n",
       "    </tr>\n",
       "  </thead>\n",
       "  <tbody>\n",
       "    <tr>\n",
       "      <th>0</th>\n",
       "      <td>189494.825768</td>\n",
       "    </tr>\n",
       "    <tr>\n",
       "      <th>1</th>\n",
       "      <td>189467.431578</td>\n",
       "    </tr>\n",
       "    <tr>\n",
       "      <th>2</th>\n",
       "      <td>179666.871908</td>\n",
       "    </tr>\n",
       "    <tr>\n",
       "      <th>3</th>\n",
       "      <td>170383.124914</td>\n",
       "    </tr>\n",
       "    <tr>\n",
       "      <th>4</th>\n",
       "      <td>169600.660494</td>\n",
       "    </tr>\n",
       "  </tbody>\n",
       "</table>\n",
       "</div>"
      ],
      "text/plain": [
       "   Fitted_Values\n",
       "0  189494.825768\n",
       "1  189467.431578\n",
       "2  179666.871908\n",
       "3  170383.124914\n",
       "4  169600.660494"
      ]
     },
     "execution_count": 103,
     "metadata": {},
     "output_type": "execute_result"
    }
   ],
   "source": [
    "predictions = pd.DataFrame(predictions, columns=['Fitted_Values'])\n",
    "predictions.head()"
   ]
  },
  {
   "cell_type": "code",
   "execution_count": 104,
   "id": "40dc1649",
   "metadata": {
    "scrolled": true
   },
   "outputs": [
    {
     "data": {
      "text/html": [
       "<div>\n",
       "<style scoped>\n",
       "    .dataframe tbody tr th:only-of-type {\n",
       "        vertical-align: middle;\n",
       "    }\n",
       "\n",
       "    .dataframe tbody tr th {\n",
       "        vertical-align: top;\n",
       "    }\n",
       "\n",
       "    .dataframe thead th {\n",
       "        text-align: right;\n",
       "    }\n",
       "</style>\n",
       "<table border=\"1\" class=\"dataframe\">\n",
       "  <thead>\n",
       "    <tr style=\"text-align: right;\">\n",
       "      <th></th>\n",
       "      <th>Fitted_Values</th>\n",
       "      <th>Actual_Values</th>\n",
       "      <th>Residuals</th>\n",
       "      <th>%Residuals</th>\n",
       "    </tr>\n",
       "  </thead>\n",
       "  <tbody>\n",
       "    <tr>\n",
       "      <th>0</th>\n",
       "      <td>189494.825768</td>\n",
       "      <td>192261.83</td>\n",
       "      <td>2767.004232</td>\n",
       "      <td>1.439185</td>\n",
       "    </tr>\n",
       "    <tr>\n",
       "      <th>1</th>\n",
       "      <td>189467.431578</td>\n",
       "      <td>191792.06</td>\n",
       "      <td>2324.628422</td>\n",
       "      <td>1.212057</td>\n",
       "    </tr>\n",
       "    <tr>\n",
       "      <th>2</th>\n",
       "      <td>179666.871908</td>\n",
       "      <td>191050.39</td>\n",
       "      <td>11383.518092</td>\n",
       "      <td>5.958385</td>\n",
       "    </tr>\n",
       "    <tr>\n",
       "      <th>3</th>\n",
       "      <td>170383.124914</td>\n",
       "      <td>182901.99</td>\n",
       "      <td>12518.865086</td>\n",
       "      <td>6.844576</td>\n",
       "    </tr>\n",
       "    <tr>\n",
       "      <th>4</th>\n",
       "      <td>169600.660494</td>\n",
       "      <td>166187.94</td>\n",
       "      <td>-3412.720494</td>\n",
       "      <td>-2.053531</td>\n",
       "    </tr>\n",
       "  </tbody>\n",
       "</table>\n",
       "</div>"
      ],
      "text/plain": [
       "   Fitted_Values  Actual_Values     Residuals  %Residuals\n",
       "0  189494.825768      192261.83   2767.004232    1.439185\n",
       "1  189467.431578      191792.06   2324.628422    1.212057\n",
       "2  179666.871908      191050.39  11383.518092    5.958385\n",
       "3  170383.124914      182901.99  12518.865086    6.844576\n",
       "4  169600.660494      166187.94  -3412.720494   -2.053531"
      ]
     },
     "execution_count": 104,
     "metadata": {},
     "output_type": "execute_result"
    }
   ],
   "source": [
    "predictions['Actual_Values']    = targets\n",
    "predictions['Residuals']  = predictions['Actual_Values'] - predictions['Fitted_Values']\n",
    "predictions['%Residuals'] = (predictions['Residuals']*100/predictions['Actual_Values'])\n",
    "predictions.head()"
   ]
  },
  {
   "cell_type": "markdown",
   "id": "9b33fbdd",
   "metadata": {},
   "source": [
    "# Normalilty of Residuals"
   ]
  },
  {
   "cell_type": "code",
   "execution_count": 105,
   "id": "26be9401",
   "metadata": {},
   "outputs": [
    {
     "data": {
      "image/png": "[encoded data removed]",
      "text/plain": [
       "<Figure size 432x288 with 1 Axes>"
      ]
     },
     "metadata": {},
     "output_type": "display_data"
    }
   ],
   "source": [
    "sns.distplot(predictions['Residuals'])\n",
    "plt.show()"
   ]
  },
  {
   "cell_type": "markdown",
   "id": "1fb10e23",
   "metadata": {},
   "source": [
    "# Homoscedasticity"
   ]
  },
  {
   "cell_type": "code",
   "execution_count": 106,
   "id": "d23fc868",
   "metadata": {
    "scrolled": false
   },
   "outputs": [
    {
     "data": {
      "image/png": "[encoded data removed]",
      "text/plain": [
       "<Figure size 432x288 with 1 Axes>"
      ]
     },
     "metadata": {},
     "output_type": "display_data"
    }
   ],
   "source": [
    "plt.scatter(x = predictions['Fitted_Values'],y = predictions['Residuals'])\n",
    "plt.title('Residuals Vs Fitted Values',fontsize = 20)\n",
    "plt.xlabel('Fitted Values',fontsize = 15)\n",
    "plt.ylabel('Residuals',fontsize = 15)\n",
    "plt.show()"
   ]
  },
  {
   "cell_type": "markdown",
   "id": "fb8c69a6",
   "metadata": {},
   "source": [
    "# No Auto-Correlation of Residuals -  Assumption Check"
   ]
  },
  {
   "cell_type": "code",
   "execution_count": 107,
   "id": "46efb5ac",
   "metadata": {},
   "outputs": [
    {
     "data": {
      "text/plain": [
       "1.5757950963824487"
      ]
     },
     "execution_count": 107,
     "metadata": {},
     "output_type": "execute_result"
    }
   ],
   "source": [
    "from statsmodels.stats.stattools import durbin_watson\n",
    "durbin_watson(predictions['Residuals'])"
   ]
  },
  {
   "cell_type": "markdown",
   "id": "304c4799",
   "metadata": {},
   "source": [
    "# Transformations"
   ]
  },
  {
   "cell_type": "code",
   "execution_count": 108,
   "id": "00828c1a",
   "metadata": {},
   "outputs": [],
   "source": [
    "data_cleaned['log_Profit'] = np.log(data_cleaned['Profit'])"
   ]
  },
  {
   "cell_type": "code",
   "execution_count": 109,
   "id": "ef718d8d",
   "metadata": {},
   "outputs": [
    {
     "data": {
      "text/html": [
       "<div>\n",
       "<style scoped>\n",
       "    .dataframe tbody tr th:only-of-type {\n",
       "        vertical-align: middle;\n",
       "    }\n",
       "\n",
       "    .dataframe tbody tr th {\n",
       "        vertical-align: top;\n",
       "    }\n",
       "\n",
       "    .dataframe thead th {\n",
       "        text-align: right;\n",
       "    }\n",
       "</style>\n",
       "<table border=\"1\" class=\"dataframe\">\n",
       "  <thead>\n",
       "    <tr style=\"text-align: right;\">\n",
       "      <th></th>\n",
       "      <th>Profit</th>\n",
       "      <th>R&amp;D Spend</th>\n",
       "      <th>Administration</th>\n",
       "      <th>Marketing Spend</th>\n",
       "      <th>State_California</th>\n",
       "      <th>State_Florida</th>\n",
       "      <th>State_New York</th>\n",
       "      <th>log_Profit</th>\n",
       "    </tr>\n",
       "  </thead>\n",
       "  <tbody>\n",
       "    <tr>\n",
       "      <th>0</th>\n",
       "      <td>192261.83</td>\n",
       "      <td>165349.20</td>\n",
       "      <td>136897.80</td>\n",
       "      <td>471784.10</td>\n",
       "      <td>0</td>\n",
       "      <td>0</td>\n",
       "      <td>1</td>\n",
       "      <td>12.166613</td>\n",
       "    </tr>\n",
       "    <tr>\n",
       "      <th>1</th>\n",
       "      <td>191792.06</td>\n",
       "      <td>162597.70</td>\n",
       "      <td>151377.59</td>\n",
       "      <td>443898.53</td>\n",
       "      <td>1</td>\n",
       "      <td>0</td>\n",
       "      <td>0</td>\n",
       "      <td>12.164167</td>\n",
       "    </tr>\n",
       "    <tr>\n",
       "      <th>2</th>\n",
       "      <td>191050.39</td>\n",
       "      <td>153441.51</td>\n",
       "      <td>101145.55</td>\n",
       "      <td>407934.54</td>\n",
       "      <td>0</td>\n",
       "      <td>1</td>\n",
       "      <td>0</td>\n",
       "      <td>12.160292</td>\n",
       "    </tr>\n",
       "    <tr>\n",
       "      <th>3</th>\n",
       "      <td>182901.99</td>\n",
       "      <td>144372.41</td>\n",
       "      <td>118671.85</td>\n",
       "      <td>383199.62</td>\n",
       "      <td>0</td>\n",
       "      <td>0</td>\n",
       "      <td>1</td>\n",
       "      <td>12.116706</td>\n",
       "    </tr>\n",
       "    <tr>\n",
       "      <th>4</th>\n",
       "      <td>166187.94</td>\n",
       "      <td>142107.34</td>\n",
       "      <td>91391.77</td>\n",
       "      <td>366168.42</td>\n",
       "      <td>0</td>\n",
       "      <td>1</td>\n",
       "      <td>0</td>\n",
       "      <td>12.020875</td>\n",
       "    </tr>\n",
       "  </tbody>\n",
       "</table>\n",
       "</div>"
      ],
      "text/plain": [
       "      Profit  R&D Spend  Administration  Marketing Spend  State_California  \\\n",
       "0  192261.83  165349.20       136897.80        471784.10                 0   \n",
       "1  191792.06  162597.70       151377.59        443898.53                 1   \n",
       "2  191050.39  153441.51       101145.55        407934.54                 0   \n",
       "3  182901.99  144372.41       118671.85        383199.62                 0   \n",
       "4  166187.94  142107.34        91391.77        366168.42                 0   \n",
       "\n",
       "   State_Florida  State_New York  log_Profit  \n",
       "0              0               1   12.166613  \n",
       "1              0               0   12.164167  \n",
       "2              1               0   12.160292  \n",
       "3              0               1   12.116706  \n",
       "4              1               0   12.020875  "
      ]
     },
     "execution_count": 109,
     "metadata": {},
     "output_type": "execute_result"
    }
   ],
   "source": [
    "data_cleaned.head()"
   ]
  },
  {
   "cell_type": "code",
   "execution_count": 110,
   "id": "78848283",
   "metadata": {},
   "outputs": [],
   "source": [
    "inputs2 = data_cleaned.drop(['Profit','Administration','log_Profit'], axis=1)\n",
    "targets2 = data_cleaned['log_Profit']"
   ]
  },
  {
   "cell_type": "code",
   "execution_count": 111,
   "id": "3b6a9a6b",
   "metadata": {
    "scrolled": false
   },
   "outputs": [
    {
     "data": {
      "text/html": [
       "<table class=\"simpletable\">\n",
       "<caption>OLS Regression Results</caption>\n",
       "<tr>\n",
       "  <th>Dep. Variable:</th>        <td>targets2</td>     <th>  R-squared:         </th> <td>   0.955</td>\n",
       "</tr>\n",
       "<tr>\n",
       "  <th>Model:</th>                   <td>OLS</td>       <th>  Adj. R-squared:    </th> <td>   0.951</td>\n",
       "</tr>\n",
       "<tr>\n",
       "  <th>Method:</th>             <td>Least Squares</td>  <th>  F-statistic:       </th> <td>   208.9</td>\n",
       "</tr>\n",
       "<tr>\n",
       "  <th>Date:</th>             <td>Fri, 02 Sep 2022</td> <th>  Prob (F-statistic):</th> <td>8.99e-26</td>\n",
       "</tr>\n",
       "<tr>\n",
       "  <th>Time:</th>                 <td>15:23:49</td>     <th>  Log-Likelihood:    </th> <td>  61.794</td>\n",
       "</tr>\n",
       "<tr>\n",
       "  <th>No. Observations:</th>      <td>    44</td>      <th>  AIC:               </th> <td>  -113.6</td>\n",
       "</tr>\n",
       "<tr>\n",
       "  <th>Df Residuals:</th>          <td>    39</td>      <th>  BIC:               </th> <td>  -104.7</td>\n",
       "</tr>\n",
       "<tr>\n",
       "  <th>Df Model:</th>              <td>     4</td>      <th>                     </th>     <td> </td>   \n",
       "</tr>\n",
       "<tr>\n",
       "  <th>Covariance Type:</th>      <td>nonrobust</td>    <th>                     </th>     <td> </td>   \n",
       "</tr>\n",
       "</table>\n",
       "<table class=\"simpletable\">\n",
       "<tr>\n",
       "       <td></td>         <th>coef</th>     <th>std err</th>      <th>t</th>      <th>P>|t|</th>  <th>[0.025</th>    <th>0.975]</th>  \n",
       "</tr>\n",
       "<tr>\n",
       "  <th>Intercept</th>  <td>    8.3122</td> <td>    0.018</td> <td>  465.661</td> <td> 0.000</td> <td>    8.276</td> <td>    8.348</td>\n",
       "</tr>\n",
       "<tr>\n",
       "  <th>inputs2[0]</th> <td> 6.137e-06</td> <td> 3.47e-07</td> <td>   17.691</td> <td> 0.000</td> <td> 5.44e-06</td> <td> 6.84e-06</td>\n",
       "</tr>\n",
       "<tr>\n",
       "  <th>inputs2[1]</th> <td> 2.974e-07</td> <td> 1.34e-07</td> <td>    2.223</td> <td> 0.032</td> <td> 2.68e-08</td> <td> 5.68e-07</td>\n",
       "</tr>\n",
       "<tr>\n",
       "  <th>inputs2[2]</th> <td>    2.7742</td> <td>    0.014</td> <td>  200.012</td> <td> 0.000</td> <td>    2.746</td> <td>    2.802</td>\n",
       "</tr>\n",
       "<tr>\n",
       "  <th>inputs2[3]</th> <td>    2.7811</td> <td>    0.015</td> <td>  184.744</td> <td> 0.000</td> <td>    2.751</td> <td>    2.812</td>\n",
       "</tr>\n",
       "<tr>\n",
       "  <th>inputs2[4]</th> <td>    2.7570</td> <td>    0.016</td> <td>  177.583</td> <td> 0.000</td> <td>    2.726</td> <td>    2.788</td>\n",
       "</tr>\n",
       "</table>\n",
       "<table class=\"simpletable\">\n",
       "<tr>\n",
       "  <th>Omnibus:</th>       <td> 0.000</td> <th>  Durbin-Watson:     </th> <td>   1.330</td>\n",
       "</tr>\n",
       "<tr>\n",
       "  <th>Prob(Omnibus):</th> <td> 1.000</td> <th>  Jarque-Bera (JB):  </th> <td>   0.114</td>\n",
       "</tr>\n",
       "<tr>\n",
       "  <th>Skew:</th>          <td> 0.001</td> <th>  Prob(JB):          </th> <td>   0.945</td>\n",
       "</tr>\n",
       "<tr>\n",
       "  <th>Kurtosis:</th>      <td> 2.751</td> <th>  Cond. No.          </th> <td>2.36e+21</td>\n",
       "</tr>\n",
       "</table><br/><br/>Notes:<br/>[1] Standard Errors assume that the covariance matrix of the errors is correctly specified.<br/>[2] The smallest eigenvalue is 5.76e-31. This might indicate that there are<br/>strong multicollinearity problems or that the design matrix is singular."
      ],
      "text/plain": [
       "<class 'statsmodels.iolib.summary.Summary'>\n",
       "\"\"\"\n",
       "                            OLS Regression Results                            \n",
       "==============================================================================\n",
       "Dep. Variable:               targets2   R-squared:                       0.955\n",
       "Model:                            OLS   Adj. R-squared:                  0.951\n",
       "Method:                 Least Squares   F-statistic:                     208.9\n",
       "Date:                Fri, 02 Sep 2022   Prob (F-statistic):           8.99e-26\n",
       "Time:                        15:23:49   Log-Likelihood:                 61.794\n",
       "No. Observations:                  44   AIC:                            -113.6\n",
       "Df Residuals:                      39   BIC:                            -104.7\n",
       "Df Model:                           4                                         \n",
       "Covariance Type:            nonrobust                                         \n",
       "==============================================================================\n",
       "                 coef    std err          t      P>|t|      [0.025      0.975]\n",
       "------------------------------------------------------------------------------\n",
       "Intercept      8.3122      0.018    465.661      0.000       8.276       8.348\n",
       "inputs2[0]  6.137e-06   3.47e-07     17.691      0.000    5.44e-06    6.84e-06\n",
       "inputs2[1]  2.974e-07   1.34e-07      2.223      0.032    2.68e-08    5.68e-07\n",
       "inputs2[2]     2.7742      0.014    200.012      0.000       2.746       2.802\n",
       "inputs2[3]     2.7811      0.015    184.744      0.000       2.751       2.812\n",
       "inputs2[4]     2.7570      0.016    177.583      0.000       2.726       2.788\n",
       "==============================================================================\n",
       "Omnibus:                        0.000   Durbin-Watson:                   1.330\n",
       "Prob(Omnibus):                  1.000   Jarque-Bera (JB):                0.114\n",
       "Skew:                           0.001   Prob(JB):                        0.945\n",
       "Kurtosis:                       2.751   Cond. No.                     2.36e+21\n",
       "==============================================================================\n",
       "\n",
       "Notes:\n",
       "[1] Standard Errors assume that the covariance matrix of the errors is correctly specified.\n",
       "[2] The smallest eigenvalue is 5.76e-31. This might indicate that there are\n",
       "strong multicollinearity problems or that the design matrix is singular.\n",
       "\"\"\""
      ]
     },
     "execution_count": 111,
     "metadata": {},
     "output_type": "execute_result"
    }
   ],
   "source": [
    "model2 = smf.ols('targets2 ~ inputs2', data = data_cleaned).fit()\n",
    "model2.summary()"
   ]
  },
  {
   "cell_type": "markdown",
   "id": "26d314f2",
   "metadata": {},
   "source": [
    "# R^2 Table"
   ]
  },
  {
   "cell_type": "code",
   "execution_count": 112,
   "id": "34b4d7d7",
   "metadata": {},
   "outputs": [],
   "source": [
    "r_squared = pd.DataFrame({'Models'    : ['Model without Transformations','Model with Log Transformation of Profit Variable'],\n",
    "                          'R-Squared' : [model.rsquared,model2.rsquared]\n",
    "                         })"
   ]
  },
  {
   "cell_type": "code",
   "execution_count": 113,
   "id": "49e67308",
   "metadata": {},
   "outputs": [
    {
     "data": {
      "text/html": [
       "<div>\n",
       "<style scoped>\n",
       "    .dataframe tbody tr th:only-of-type {\n",
       "        vertical-align: middle;\n",
       "    }\n",
       "\n",
       "    .dataframe tbody tr th {\n",
       "        vertical-align: top;\n",
       "    }\n",
       "\n",
       "    .dataframe thead th {\n",
       "        text-align: right;\n",
       "    }\n",
       "</style>\n",
       "<table border=\"1\" class=\"dataframe\">\n",
       "  <thead>\n",
       "    <tr style=\"text-align: right;\">\n",
       "      <th></th>\n",
       "      <th>Models</th>\n",
       "      <th>R-Squared</th>\n",
       "    </tr>\n",
       "  </thead>\n",
       "  <tbody>\n",
       "    <tr>\n",
       "      <th>0</th>\n",
       "      <td>Model without Transformations</td>\n",
       "      <td>0.960686</td>\n",
       "    </tr>\n",
       "    <tr>\n",
       "      <th>1</th>\n",
       "      <td>Model with Log Transformation of Profit Variable</td>\n",
       "      <td>0.955407</td>\n",
       "    </tr>\n",
       "  </tbody>\n",
       "</table>\n",
       "</div>"
      ],
      "text/plain": [
       "                                             Models  R-Squared\n",
       "0                     Model without Transformations   0.960686\n",
       "1  Model with Log Transformation of Profit Variable   0.955407"
      ]
     },
     "execution_count": 113,
     "metadata": {},
     "output_type": "execute_result"
    }
   ],
   "source": [
    "r_squared"
   ]
  }
 ],
 "metadata": {
  "kernelspec": {
   "display_name": "Python 3 (ipykernel)",
   "language": "python",
   "name": "python3"
  },
  "language_info": {
   "codemirror_mode": {
    "name": "ipython",
    "version": 3
   },
   "file_extension": ".py",
   "mimetype": "text/x-python",
   "name": "python",
   "nbconvert_exporter": "python",
   "pygments_lexer": "ipython3",
   "version": "3.9.12"
  }
 },
 "nbformat": 4,
 "nbformat_minor": 5
}
